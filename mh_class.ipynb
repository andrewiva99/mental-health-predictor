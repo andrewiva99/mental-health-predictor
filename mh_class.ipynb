{
 "cells": [
  {
   "cell_type": "code",
   "id": "initial_id",
   "metadata": {
    "collapsed": true,
    "ExecuteTime": {
     "end_time": "2024-11-07T19:50:37.205193Z",
     "start_time": "2024-11-07T19:50:37.016197Z"
    }
   },
   "source": [
    "from pyspark.sql import SparkSession\n",
    "import pyspark.sql.functions as F\n",
    "from pyspark.sql.functions import col, count, max, min, sum, when, mean, mode\n",
    "import seaborn as sns\n",
    "import pandas as pd\n",
    "from pyspark.ml.feature import StringIndexer, VectorAssembler\n",
    "from pyspark.ml.evaluation import BinaryClassificationEvaluator, MulticlassClassificationEvaluator\n",
    "import os, sys"
   ],
   "outputs": [],
   "execution_count": 1
  },
  {
   "metadata": {
    "ExecuteTime": {
     "end_time": "2024-11-07T19:50:37.221195Z",
     "start_time": "2024-11-07T19:50:37.214197Z"
    }
   },
   "cell_type": "code",
   "source": [
    "import os\n",
    "import sys\n",
    "\n",
    "os.environ['PYSPARK_PYTHON'] = sys.executable\n",
    "os.environ['PYSPARK_DRIVER_PYTHON'] = sys.executable\n",
    "os.environ['HADOOP_HOME'] = 'D:\\hadoop\\hadoop-3.4.0'\n",
    "os.environ['hadoop.home.dir'] = 'D:\\hadoop\\hadoop-3.4.0'"
   ],
   "id": "d0e260c8e942d2d3",
   "outputs": [],
   "execution_count": 2
  },
  {
   "metadata": {
    "ExecuteTime": {
     "end_time": "2024-11-07T19:50:37.237193Z",
     "start_time": "2024-11-07T19:50:37.225196Z"
    }
   },
   "cell_type": "code",
   "source": [
    "import warnings\n",
    "warnings.filterwarnings(\"ignore\", category=FutureWarning)"
   ],
   "id": "d7e2ce54fb690ff1",
   "outputs": [],
   "execution_count": 3
  },
  {
   "metadata": {
    "ExecuteTime": {
     "end_time": "2024-11-07T19:50:44.747193Z",
     "start_time": "2024-11-07T19:50:37.316197Z"
    }
   },
   "cell_type": "code",
   "source": [
    "spark = SparkSession.builder.appName('Mental Health') \\\n",
    "         .getOrCreate()"
   ],
   "id": "4055fe7c95443511",
   "outputs": [],
   "execution_count": 4
  },
  {
   "metadata": {
    "ExecuteTime": {
     "end_time": "2024-11-07T16:48:54.341084Z",
     "start_time": "2024-11-07T16:48:50.183155Z"
    }
   },
   "cell_type": "code",
   "source": [
    "train_data = spark.read.csv('data/train.csv', header=True, inferSchema=True)\n",
    "test_data = spark.read.csv('data/test.csv', header=True, inferSchema=True)"
   ],
   "id": "5d9dc11f51efbca",
   "outputs": [],
   "execution_count": 5
  },
  {
   "metadata": {},
   "cell_type": "markdown",
   "source": [
    "1. **id**: Unique identifier for each participant in the dataset.\n",
    "2. **Name**: The participant's full name or chosen identifier.\n",
    "3. **Gender**: The gender of the participant.\n",
    "4. **Age**: The participant's age in years.\n",
    "5. **City**: The city where the participant currently resides.\n",
    "6. **Working Professional or Student**: Indicates if the participant is a working professional or a student.\n",
    "7. **Profession**: The specific field or occupation of the participant, if applicable.\n",
    "8. **Academic Pressure**: Measures the participant’s perceived academic-related stress (e.g., from exams or assignments).\n",
    "9. **Work Pressure**: Measures the participant’s perceived work-related stress (e.g., deadlines or workload).\n",
    "10. **CGPA**: The participant's cumulative grade point average (if a student).\n",
    "11. **Study Satisfaction**: Level of satisfaction with academic studies, often rated on a scale (e.g., from very dissatisfied to very satisfied).\n",
    "12. **Job Satisfaction**: Level of satisfaction with current job, often rated on a scale.\n",
    "13. **Sleep Duration**: Average number of hours of sleep the participant gets each night.\n",
    "14. **Dietary Habits**: General pattern of the participant's diet.\n",
    "15. **Degree**: The highest level of academic degree obtained by the participant.\n",
    "16. **Have you ever had suicidal thoughts?**: Indicates whether the participant has ever experienced suicidal thoughts.\n",
    "17. **Work/Study Hours**: Average number of hours the participant spends on work or study activities daily.\n",
    "18. **Financial Stress**: Level of stress experienced by the participant due to financial issues.\n",
    "19. **Family History of Mental Illness**: Indicates if there is a family history of mental health conditions.\n",
    "20. **Depression**: Measures or indicates the presence of depression in the participant (e.g., based on self-report or diagnostic criteria)."
   ],
   "id": "52c827018427f5e3"
  },
  {
   "metadata": {},
   "cell_type": "markdown",
   "source": "## First view of data",
   "id": "fc689f3800b62c4a"
  },
  {
   "metadata": {
    "ExecuteTime": {
     "end_time": "2024-11-07T16:48:54.388081Z",
     "start_time": "2024-11-07T16:48:54.375083Z"
    }
   },
   "cell_type": "code",
   "source": [
    "column_renaming = {\n",
    "    'Gender': 'Gender',\n",
    "    'Age': 'Age',\n",
    "    'Working Professional or Student': 'Status',\n",
    "    'Profession': 'Profession',\n",
    "    'Academic Pressure': 'Acad_Pressure',\n",
    "    'Work Pressure': 'Work_Pressure',\n",
    "    'CGPA': 'CGPA',\n",
    "    'Study Satisfaction': 'Study_Sat',\n",
    "    'Job Satisfaction': 'Job_Sat',\n",
    "    'Sleep Duration': 'Sleep_Dur',\n",
    "    'Dietary Habits': 'Diet_Habits',\n",
    "    'Degree': 'Degree',\n",
    "    'Have you ever had suicidal thoughts ?': 'Suicidal_Thoughts',\n",
    "    'Work/Study Hours': 'Work_Study_Hours',\n",
    "    'Financial Stress': 'Fin_Stress',\n",
    "    'Family History of Mental Illness': 'Fam_Mental_Illness',\n",
    "    'Depression': 'Depression'\n",
    "}"
   ],
   "id": "962bb7391e4d42b",
   "outputs": [],
   "execution_count": 6
  },
  {
   "metadata": {
    "ExecuteTime": {
     "end_time": "2024-11-07T16:48:54.434638Z",
     "start_time": "2024-11-07T16:48:54.404639Z"
    }
   },
   "cell_type": "code",
   "source": [
    "train_data = train_data.withColumnsRenamed(column_renaming)\n",
    "test_data = test_data.withColumnsRenamed(column_renaming)"
   ],
   "id": "c2ff666156a5941",
   "outputs": [],
   "execution_count": 7
  },
  {
   "metadata": {
    "ExecuteTime": {
     "end_time": "2024-11-07T16:48:54.464641Z",
     "start_time": "2024-11-07T16:48:54.450642Z"
    }
   },
   "cell_type": "code",
   "source": [
    "def data_info(data):\n",
    "\n",
    "    # Data types\n",
    "    typs = spark.createDataFrame(train_data.dtypes, ['features', 'type'])\n",
    "\n",
    "    # Null count\n",
    "    num_nulls = train_data.select(*[F.sum(col(i).isNull().cast('int')).alias(i) for i in train_data.columns])\n",
    "    num_nulls = num_nulls.unpivot('Age', num_nulls.columns, 'features', 'num_nulls').drop('Age')\n",
    "\n",
    "    # Max value\n",
    "    numeric_columns = [i for i, t in data.dtypes if t != 'string']\n",
    "\n",
    "    max_values = data.select(*[max(col(i)).alias(i) for i in numeric_columns])\n",
    "    max_values = max_values.unpivot('Age', max_values.columns, 'features', 'max_val').drop('Age')\n",
    "\n",
    "    # Min value\n",
    "    min_values = data.select(*[min(col(i)).alias(i) for i in numeric_columns])\n",
    "    min_values = min_values.unpivot('Age', min_values.columns, 'features', 'min_val').drop('Age')\n",
    "\n",
    "    # N unique\n",
    "    nunique = data.select(*[F.count_distinct(col(i)).alias(i) for i in data.columns])\n",
    "    nunique = nunique.unpivot('Age', nunique.columns, 'features', 'n_unique').drop('Age')\n",
    "\n",
    "    return typs.join(num_nulls, on='features', how='left') \\\n",
    "                 .join(max_values, on='features', how='left') \\\n",
    "                 .join(min_values, on='features', how='left') \\\n",
    "                 .join(nunique, on='features', how='left')"
   ],
   "id": "2629541107caf8b5",
   "outputs": [],
   "execution_count": 8
  },
  {
   "metadata": {
    "ExecuteTime": {
     "end_time": "2024-11-07T16:49:08.170284Z",
     "start_time": "2024-11-07T16:48:54.481642Z"
    }
   },
   "cell_type": "code",
   "source": "data_info(train_data).show()",
   "id": "3fc01ea2e524b819",
   "outputs": [
    {
     "name": "stdout",
     "output_type": "stream",
     "text": [
      "+------------------+------+---------+--------+-------+--------+\n",
      "|          features|  type|num_nulls| max_val|min_val|n_unique|\n",
      "+------------------+------+---------+--------+-------+--------+\n",
      "|                id|   int|        0|140699.0|    0.0|  140700|\n",
      "|              Name|string|        0|    NULL|   NULL|     422|\n",
      "|            Gender|string|        0|    NULL|   NULL|       2|\n",
      "|               Age|double|        0|    60.0|   18.0|      43|\n",
      "|              City|string|        0|    NULL|   NULL|      98|\n",
      "|            Status|string|        0|    NULL|   NULL|       2|\n",
      "|        Profession|string|    36630|    NULL|   NULL|      64|\n",
      "|     Acad_Pressure|double|   112803|     5.0|    1.0|       5|\n",
      "|     Work_Pressure|double|    27918|     5.0|    1.0|       5|\n",
      "|              CGPA|double|   112802|    10.0|   5.03|     331|\n",
      "|         Study_Sat|double|   112803|     5.0|    1.0|       5|\n",
      "|           Job_Sat|double|    27910|     5.0|    1.0|       5|\n",
      "|         Sleep_Dur|string|        0|    NULL|   NULL|      36|\n",
      "|       Diet_Habits|string|        4|    NULL|   NULL|      23|\n",
      "|            Degree|string|        2|    NULL|   NULL|     115|\n",
      "| Suicidal_Thoughts|string|        0|    NULL|   NULL|       2|\n",
      "|  Work_Study_Hours|double|        0|    12.0|    0.0|      13|\n",
      "|        Fin_Stress|double|        4|     5.0|    1.0|       5|\n",
      "|Fam_Mental_Illness|string|        0|    NULL|   NULL|       2|\n",
      "|        Depression|   int|        0|     1.0|    0.0|       2|\n",
      "+------------------+------+---------+--------+-------+--------+\n",
      "\n"
     ]
    }
   ],
   "execution_count": 9
  },
  {
   "metadata": {},
   "cell_type": "markdown",
   "source": "We must remove columns that do not provide information value: [**id**, **Name**, **City**]",
   "id": "d5638625eaeb3a11"
  },
  {
   "metadata": {
    "ExecuteTime": {
     "end_time": "2024-11-07T16:49:08.232282Z",
     "start_time": "2024-11-07T16:49:08.204282Z"
    }
   },
   "cell_type": "code",
   "source": [
    "train_data = train_data.drop(*['id', 'Name', 'City'])\n",
    "test_data = test_data.drop(*['Name', 'City'])"
   ],
   "id": "61141bcf8d067c62",
   "outputs": [],
   "execution_count": 10
  },
  {
   "metadata": {},
   "cell_type": "markdown",
   "source": "## Handling missing values",
   "id": "9fc2ee2bcc26b64e"
  },
  {
   "metadata": {},
   "cell_type": "markdown",
   "source": "### Profession",
   "id": "c7b8178de9a4272f"
  },
  {
   "metadata": {
    "ExecuteTime": {
     "end_time": "2024-11-07T16:49:08.699654Z",
     "start_time": "2024-11-07T16:49:08.412858Z"
    }
   },
   "cell_type": "code",
   "source": [
    "train_data.groupBy('Status').agg(sum(col('Profession')\\\n",
    "                .isNull().cast('int')).alias('Profession null count')).show()"
   ],
   "id": "3c5d1c1950ddee67",
   "outputs": [
    {
     "name": "stdout",
     "output_type": "stream",
     "text": [
      "+--------------------+---------------------+\n",
      "|              Status|Profession null count|\n",
      "+--------------------+---------------------+\n",
      "|             Student|                27867|\n",
      "|Working Professional|                 8763|\n",
      "+--------------------+---------------------+\n",
      "\n"
     ]
    }
   ],
   "execution_count": 11
  },
  {
   "metadata": {},
   "cell_type": "markdown",
   "source": "Note that there are already categories **Profession** and **Student**",
   "id": "3a96e15f908fab39"
  },
  {
   "metadata": {
    "ExecuteTime": {
     "end_time": "2024-11-07T16:49:09.038212Z",
     "start_time": "2024-11-07T16:49:08.717654Z"
    }
   },
   "cell_type": "code",
   "source": "train_data.select('Profession').distinct().show(10)",
   "id": "9fa2242eac8c287c",
   "outputs": [
    {
     "name": "stdout",
     "output_type": "stream",
     "text": [
      "+-----------------+\n",
      "|       Profession|\n",
      "+-----------------+\n",
      "|Financial Analyst|\n",
      "|Investment Banker|\n",
      "|       Profession|\n",
      "| Customer Support|\n",
      "|  Sales Executive|\n",
      "|          Student|\n",
      "|   Civil Engineer|\n",
      "|Marketing Manager|\n",
      "|           Lawyer|\n",
      "|          Teacher|\n",
      "+-----------------+\n",
      "only showing top 10 rows\n",
      "\n"
     ]
    }
   ],
   "execution_count": 12
  },
  {
   "metadata": {
    "ExecuteTime": {
     "end_time": "2024-11-07T16:49:09.284359Z",
     "start_time": "2024-11-07T16:49:09.054783Z"
    }
   },
   "cell_type": "code",
   "source": "train_data.filter(col(\"Profession\") == 'Profession').show()",
   "id": "91e2fde7140029cd",
   "outputs": [
    {
     "name": "stdout",
     "output_type": "stream",
     "text": [
      "+------+----+--------------------+----------+-------------+-------------+----+---------+-------+-----------------+-----------+------+-----------------+----------------+----------+------------------+----------+\n",
      "|Gender| Age|              Status|Profession|Acad_Pressure|Work_Pressure|CGPA|Study_Sat|Job_Sat|        Sleep_Dur|Diet_Habits|Degree|Suicidal_Thoughts|Work_Study_Hours|Fin_Stress|Fam_Mental_Illness|Depression|\n",
      "+------+----+--------------------+----------+-------------+-------------+----+---------+-------+-----------------+-----------+------+-----------------+----------------+----------+------------------+----------+\n",
      "|  Male|40.0|Working Professional|Profession|         NULL|          5.0|NULL|     NULL|    1.0|        5-6 hours|    Healthy|   PhD|               No|             0.0|       3.0|                No|         0|\n",
      "|  Male|54.0|Working Professional|Profession|         NULL|          3.0|NULL|     NULL|    5.0|Less than 5 hours|    Healthy| B.Com|               No|            12.0|       3.0|               Yes|         0|\n",
      "|  Male|58.0|Working Professional|Profession|         NULL|          2.0|NULL|     NULL|    3.0|Less than 5 hours|  Unhealthy|    ME|              Yes|             6.0|       1.0|               Yes|         0|\n",
      "+------+----+--------------------+----------+-------------+-------------+----+---------+-------+-----------------+-----------+------+-----------------+----------------+----------+------------------+----------+\n",
      "\n"
     ]
    }
   ],
   "execution_count": 13
  },
  {
   "metadata": {},
   "cell_type": "markdown",
   "source": "We see inconsistencies in the **Working Professional** or Student column, **Working Professional** is indicated, although **Professional** is indicated as **Student**",
   "id": "5b9a88ec3be5e84c"
  },
  {
   "metadata": {
    "ExecuteTime": {
     "end_time": "2024-11-07T16:49:09.483977Z",
     "start_time": "2024-11-07T16:49:09.303359Z"
    }
   },
   "cell_type": "code",
   "source": "train_data.filter(col(\"Profession\") == 'Student').show()",
   "id": "8ab6a8249834a86",
   "outputs": [
    {
     "name": "stdout",
     "output_type": "stream",
     "text": [
      "+------+----+--------------------+----------+-------------+-------------+----+---------+-------+-----------------+-----------+-------+-----------------+----------------+----------+------------------+----------+\n",
      "|Gender| Age|              Status|Profession|Acad_Pressure|Work_Pressure|CGPA|Study_Sat|Job_Sat|        Sleep_Dur|Diet_Habits| Degree|Suicidal_Thoughts|Work_Study_Hours|Fin_Stress|Fam_Mental_Illness|Depression|\n",
      "+------+----+--------------------+----------+-------------+-------------+----+---------+-------+-----------------+-----------+-------+-----------------+----------------+----------+------------------+----------+\n",
      "|Female|22.0|Working Professional|   Student|         NULL|          3.0|NULL|     NULL|    2.0|        7-8 hours|   Moderate|  B.Com|              Yes|             5.0|       2.0|                No|         0|\n",
      "|Female|24.0|             Student|   Student|          1.0|         NULL|7.32|      4.0|   NULL|More than 8 hours|   Moderate|     MA|              Yes|             8.0|       3.0|               Yes|         0|\n",
      "|  Male|32.0|             Student|   Student|          2.0|         NULL|8.13|      5.0|   NULL|More than 8 hours|  Unhealthy|   B.Ed|               No|            11.0|       1.0|                No|         0|\n",
      "|  Male|60.0|Working Professional|   Student|         NULL|          3.0|NULL|     NULL|    2.0|        5-6 hours|  Unhealthy|M.Pharm|               No|             8.0|       1.0|               Yes|         0|\n",
      "|  Male|35.0|Working Professional|   Student|         NULL|          4.0|NULL|     NULL|    2.0|Less than 5 hours|   Moderate|    BSc|               No|             1.0|       3.0|               Yes|         0|\n",
      "|  Male|29.0|Working Professional|   Student|         NULL|          4.0|NULL|     NULL|    2.0|        5-6 hours|   Moderate|     BE|               No|            10.0|       1.0|               Yes|         0|\n",
      "|Female|30.0|             Student|   Student|          5.0|         NULL|7.24|      1.0|   NULL|Less than 5 hours|  Unhealthy|     MD|              Yes|             3.0|       3.0|               Yes|         0|\n",
      "+------+----+--------------------+----------+-------------+-------------+----+---------+-------+-----------------+-----------+-------+-----------------+----------------+----------+------------------+----------+\n",
      "\n"
     ]
    }
   ],
   "execution_count": 14
  },
  {
   "metadata": {
    "ExecuteTime": {
     "end_time": "2024-11-07T16:49:09.622569Z",
     "start_time": "2024-11-07T16:49:09.508977Z"
    }
   },
   "cell_type": "code",
   "source": [
    "df = train_data.filter((col(\"Status\") == 'Student') & col('Profession').isNotNull())\n",
    "df.show(10)"
   ],
   "id": "493575b01a517bc1",
   "outputs": [
    {
     "name": "stdout",
     "output_type": "stream",
     "text": [
      "+------+----+-------+--------------------+-------------+-------------+----+---------+-------+-----------------+-----------+------+-----------------+----------------+----------+------------------+----------+\n",
      "|Gender| Age| Status|          Profession|Acad_Pressure|Work_Pressure|CGPA|Study_Sat|Job_Sat|        Sleep_Dur|Diet_Habits|Degree|Suicidal_Thoughts|Work_Study_Hours|Fin_Stress|Fam_Mental_Illness|Depression|\n",
      "+------+----+-------+--------------------+-------------+-------------+----+---------+-------+-----------------+-----------+------+-----------------+----------------+----------+------------------+----------+\n",
      "|  Male|21.0|Student|      Civil Engineer|          5.0|         NULL|7.83|      1.0|   NULL|        5-6 hours|    Healthy|   MSc|              Yes|            11.0|       3.0|               Yes|         1|\n",
      "|Female|31.0|Student|           Architect|          5.0|         NULL|6.95|      3.0|   NULL|Less than 5 hours|   Moderate|   BSc|               No|             8.0|       1.0|               Yes|         1|\n",
      "|Female|32.0|Student|      UX/UI Designer|          3.0|         NULL| 9.6|      2.0|   NULL|        7-8 hours|   Moderate|   PhD|              Yes|             5.0|       3.0|                No|         1|\n",
      "|Female|28.0|Student|    Digital Marketer|          5.0|         NULL|9.72|      3.0|   NULL|More than 8 hours|    Healthy|    MA|              Yes|            10.0|       5.0|               Yes|         1|\n",
      "|  Male|25.0|Student|      Content Writer|          5.0|         NULL| 8.5|      2.0|   NULL|        5-6 hours|   Moderate|  B.Ed|              Yes|             0.0|       2.0|               Yes|         1|\n",
      "|  Male|33.0|Student|           Architect|          2.0|         NULL|7.13|      4.0|   NULL|More than 8 hours|   Moderate|   MSc|               No|             2.0|       5.0|               Yes|         1|\n",
      "|Female|24.0|Student|           Architect|          3.0|         NULL|8.89|      5.0|   NULL|More than 8 hours|  Unhealthy|   MSc|              Yes|             3.0|       5.0|               Yes|         1|\n",
      "|  Male|32.0|Student|Educational Consu...|          3.0|         NULL|5.74|      4.0|   NULL|        7-8 hours|    Healthy|  B.Ed|              Yes|             3.0|       5.0|               Yes|         1|\n",
      "|  Male|31.0|Student|             Teacher|          3.0|         NULL|7.48|      5.0|   NULL|        5-6 hours|  Unhealthy|    MD|              Yes|            12.0|       2.0|               Yes|         1|\n",
      "|Female|24.0|Student|             Student|          1.0|         NULL|7.32|      4.0|   NULL|More than 8 hours|   Moderate|    MA|              Yes|             8.0|       3.0|               Yes|         0|\n",
      "+------+----+-------+--------------------+-------------+-------------+----+---------+-------+-----------------+-----------+------+-----------------+----------------+----------+------------------+----------+\n",
      "only showing top 10 rows\n",
      "\n"
     ]
    }
   ],
   "execution_count": 15
  },
  {
   "metadata": {
    "ExecuteTime": {
     "end_time": "2024-11-07T16:49:09.930181Z",
     "start_time": "2024-11-07T16:49:09.669571Z"
    }
   },
   "cell_type": "code",
   "source": "df.count(), df.select(col('Work_Pressure').isNull()).count()",
   "id": "ab12f8ae93b166ff",
   "outputs": [
    {
     "data": {
      "text/plain": [
       "(34, 34)"
      ]
     },
     "execution_count": 16,
     "metadata": {},
     "output_type": "execute_result"
    }
   ],
   "execution_count": 16
  },
  {
   "metadata": {},
   "cell_type": "markdown",
   "source": "Most likely, some of the students surveyed indicated their future profession in the **Profession** field.",
   "id": "541a6e95e57b2bc7"
  },
  {
   "metadata": {},
   "cell_type": "markdown",
   "source": [
    "The best way to fill in the missing values is to look at the **Status** column.\n",
    "\n",
    "**Working Professional** $\\rightarrow$ **Professional**\n",
    "\n",
    "**Student** $\\rightarrow$ **Student**\n",
    "\n",
    "We will also correct obvious errors in the data using the same rule."
   ],
   "id": "b3adf193ea7bf65b"
  },
  {
   "metadata": {
    "ExecuteTime": {
     "end_time": "2024-11-07T16:49:09.992177Z",
     "start_time": "2024-11-07T16:49:09.947181Z"
    }
   },
   "cell_type": "code",
   "source": [
    "train_data = train_data.withColumn(\n",
    "    'Profession',\n",
    "      when(F.col('Status') == 'Student', 'Student')\n",
    "     .when((F.col('Status') == 'Working Professional') &\n",
    "           (F.col('Profession').isNull() | (F.col('Profession') == 'Student')),\n",
    "           'Profession')\n",
    "     .otherwise(F.col('Profession'))\n",
    ")\n",
    "\n",
    "test_data = test_data.withColumn(\n",
    "    'Profession',\n",
    "     when(F.col('Status') == 'Student', 'Student')\n",
    "    .when((F.col('Status') == 'Working Professional') &\n",
    "          (F.col('Profession').isNull() | (F.col('Profession') == 'Student')),\n",
    "          'Profession')\n",
    "    .otherwise(F.col('Profession'))\n",
    ")"
   ],
   "id": "4c223aa083c9f87d",
   "outputs": [],
   "execution_count": 17
  },
  {
   "metadata": {},
   "cell_type": "markdown",
   "source": "### Acad_Pressure",
   "id": "c2734c01c9d58a9e"
  },
  {
   "metadata": {
    "ExecuteTime": {
     "end_time": "2024-11-07T16:49:10.222797Z",
     "start_time": "2024-11-07T16:49:10.008181Z"
    }
   },
   "cell_type": "code",
   "source": [
    "train_data.groupBy('Status').agg(sum(col('Acad_Pressure').isNull().cast('int'))\\\n",
    "                                 .alias('Acad_Pressure null count')).show()"
   ],
   "id": "8887463f7f4e33a9",
   "outputs": [
    {
     "name": "stdout",
     "output_type": "stream",
     "text": [
      "+--------------------+------------------------+\n",
      "|              Status|Acad_Pressure null count|\n",
      "+--------------------+------------------------+\n",
      "|             Student|                       9|\n",
      "|Working Professional|                  112794|\n",
      "+--------------------+------------------------+\n",
      "\n"
     ]
    }
   ],
   "execution_count": 18
  },
  {
   "metadata": {},
   "cell_type": "markdown",
   "source": "Those who work do not have Academic Pressure, and for students who did not indicate, you can assign an average value",
   "id": "10b5c64e381282f6"
  },
  {
   "metadata": {
    "ExecuteTime": {
     "end_time": "2024-11-07T16:49:10.547367Z",
     "start_time": "2024-11-07T16:49:10.248798Z"
    }
   },
   "cell_type": "code",
   "source": [
    "train_mean_acad_pres = train_data.select(mean(col('Acad_Pressure'))).collect()[0][0]\n",
    "test_mean_acad_pres = test_data.select(mean(col('Acad_Pressure'))).collect()[0][0]"
   ],
   "id": "34290417a04202a8",
   "outputs": [],
   "execution_count": 19
  },
  {
   "metadata": {
    "ExecuteTime": {
     "end_time": "2024-11-07T16:49:10.593070Z",
     "start_time": "2024-11-07T16:49:10.564070Z"
    }
   },
   "cell_type": "code",
   "source": [
    "train_data = train_data.withColumn('Acad_Pressure',\n",
    "                      when((col('Status') == 'Student') &\n",
    "                            (col('Acad_Pressure').isNull()), int(train_mean_acad_pres)) \\\n",
    "                      .when((col('Status') == 'Working Professional') &\n",
    "                            (col('Acad_Pressure').isNull()), 0) \\\n",
    "                      .otherwise(col('Acad_Pressure')))\n",
    "\n",
    "test_data = test_data.withColumn('Acad_Pressure',\n",
    "                      when((col('Status') == 'Student') &\n",
    "                            (col('Acad_Pressure').isNull()), int(test_mean_acad_pres)) \\\n",
    "                      .when((col('Status') == 'Working Professional') &\n",
    "                            (col('Acad_Pressure').isNull()), 0) \\\n",
    "                      .otherwise(col('Acad_Pressure')))"
   ],
   "id": "aef9ed31ac4b93c4",
   "outputs": [],
   "execution_count": 20
  },
  {
   "metadata": {},
   "cell_type": "markdown",
   "source": "### Work_Pressure",
   "id": "a383440eec2e454a"
  },
  {
   "metadata": {
    "ExecuteTime": {
     "end_time": "2024-11-07T16:49:10.779643Z",
     "start_time": "2024-11-07T16:49:10.609070Z"
    }
   },
   "cell_type": "code",
   "source": [
    "train_data.groupBy('Status').agg(sum(col('Work_Pressure').isNull().cast('int'))\\\n",
    "                                 .alias('Work_Pressure null count')).show()"
   ],
   "id": "ddadf418921d52ee",
   "outputs": [
    {
     "name": "stdout",
     "output_type": "stream",
     "text": [
      "+--------------------+------------------------+\n",
      "|              Status|Work_Pressure null count|\n",
      "+--------------------+------------------------+\n",
      "|             Student|                   27898|\n",
      "|Working Professional|                      20|\n",
      "+--------------------+------------------------+\n",
      "\n"
     ]
    }
   ],
   "execution_count": 21
  },
  {
   "metadata": {},
   "cell_type": "markdown",
   "source": "Similar to Acad_Pressure",
   "id": "1c4e523325607692"
  },
  {
   "metadata": {
    "ExecuteTime": {
     "end_time": "2024-11-07T16:49:11.078929Z",
     "start_time": "2024-11-07T16:49:10.804646Z"
    }
   },
   "cell_type": "code",
   "source": [
    "train_mean_work_pres = train_data.select(mean(col('Work_Pressure'))).collect()[0][0]\n",
    "test_mean_work_pres = test_data.select(mean(col('Work_Pressure'))).collect()[0][0]"
   ],
   "id": "8a620ac3aa05a649",
   "outputs": [],
   "execution_count": 22
  },
  {
   "metadata": {
    "ExecuteTime": {
     "end_time": "2024-11-07T16:49:11.125666Z",
     "start_time": "2024-11-07T16:49:11.096101Z"
    }
   },
   "cell_type": "code",
   "source": [
    "train_data = train_data.withColumn('Work_Pressure',\n",
    "                      when((col('Status') == 'Working Professional') &\n",
    "                            (col('Work_Pressure').isNull()), int(train_mean_work_pres)) \\\n",
    "                      .when((col('Status') == 'Student') &\n",
    "                            (col('Work_Pressure').isNull()), 0) \\\n",
    "                      .otherwise(col('Work_Pressure')))\n",
    "\n",
    "test_data = test_data.withColumn('Work_Pressure',\n",
    "                      when((col('Status') == 'Working Professional') &\n",
    "                            (col('Work_Pressure').isNull()), int(test_mean_work_pres)) \\\n",
    "                      .when((col('Status') == 'Student') &\n",
    "                            (col('Work_Pressure').isNull()), 0) \\\n",
    "                      .otherwise(col('Work_Pressure')))"
   ],
   "id": "41d8ad3b432a381b",
   "outputs": [],
   "execution_count": 23
  },
  {
   "metadata": {},
   "cell_type": "markdown",
   "source": "### CGPA",
   "id": "19e3fb9efa414b9e"
  },
  {
   "metadata": {
    "ExecuteTime": {
     "end_time": "2024-11-07T16:49:11.311731Z",
     "start_time": "2024-11-07T16:49:11.157243Z"
    }
   },
   "cell_type": "code",
   "source": [
    "train_data.groupBy('Status').agg(sum(col('CGPA').isNull().cast('int'))\\\n",
    "                                 .alias('CGPA null count')).show()"
   ],
   "id": "3ac0ff45d1f11c59",
   "outputs": [
    {
     "name": "stdout",
     "output_type": "stream",
     "text": [
      "+--------------------+---------------+\n",
      "|              Status|CGPA null count|\n",
      "+--------------------+---------------+\n",
      "|             Student|              9|\n",
      "|Working Professional|         112793|\n",
      "+--------------------+---------------+\n",
      "\n"
     ]
    }
   ],
   "execution_count": 24
  },
  {
   "metadata": {},
   "cell_type": "markdown",
   "source": "Similar to Acad_Pressure",
   "id": "e7b2cfddb9f62e98"
  },
  {
   "metadata": {
    "ExecuteTime": {
     "end_time": "2024-11-07T16:49:11.575690Z",
     "start_time": "2024-11-07T16:49:11.327734Z"
    }
   },
   "cell_type": "code",
   "source": [
    "train_mean_cgpa = train_data.select(mean(col('CGPA'))).collect()[0][0]\n",
    "test_mean_cgpa = test_data.select(mean(col('CGPA'))).collect()[0][0]"
   ],
   "id": "97275a2d011a4c11",
   "outputs": [],
   "execution_count": 25
  },
  {
   "metadata": {
    "ExecuteTime": {
     "end_time": "2024-11-07T16:49:11.621691Z",
     "start_time": "2024-11-07T16:49:11.591693Z"
    }
   },
   "cell_type": "code",
   "source": [
    "train_data = train_data.withColumn('CGPA',\n",
    "                      when((col('Status') == 'Student') &\n",
    "                            (col('CGPA').isNull()), train_mean_cgpa) \\\n",
    "                      .when((col('Status') == 'Working Professional') &\n",
    "                            (col('CGPA').isNull()), 0) \\\n",
    "                      .otherwise(col('CGPA')))\n",
    "\n",
    "test_data = test_data.withColumn('CGPA',\n",
    "                      when((col('Status') == 'Student') &\n",
    "                            (col('CGPA').isNull()), test_mean_cgpa) \\\n",
    "                      .when((col('Status') == 'Working Professional') &\n",
    "                            (col('CGPA').isNull()), 0) \\\n",
    "                      .otherwise(col('CGPA')))"
   ],
   "id": "8c2871cb497e8be8",
   "outputs": [],
   "execution_count": 26
  },
  {
   "metadata": {},
   "cell_type": "markdown",
   "source": "### Study satisfaction",
   "id": "9def748b19a70f35"
  },
  {
   "metadata": {
    "ExecuteTime": {
     "end_time": "2024-11-07T16:49:11.810090Z",
     "start_time": "2024-11-07T16:49:11.638692Z"
    }
   },
   "cell_type": "code",
   "source": [
    "train_data.groupBy('Status').agg(sum(col('Study_Sat').isNull().cast('int'))\\\n",
    "                                 .alias('Study_Sat null count')).show()"
   ],
   "id": "a26cbcc272cb47a2",
   "outputs": [
    {
     "name": "stdout",
     "output_type": "stream",
     "text": [
      "+--------------------+--------------------+\n",
      "|              Status|Study_Sat null count|\n",
      "+--------------------+--------------------+\n",
      "|             Student|                  10|\n",
      "|Working Professional|              112793|\n",
      "+--------------------+--------------------+\n",
      "\n"
     ]
    }
   ],
   "execution_count": 27
  },
  {
   "metadata": {
    "ExecuteTime": {
     "end_time": "2024-11-07T16:49:12.103172Z",
     "start_time": "2024-11-07T16:49:11.834814Z"
    }
   },
   "cell_type": "code",
   "source": [
    "train_mean_study_sat = train_data.select(mean(col('Study_Sat'))).collect()[0][0]\n",
    "test_mean_study_sat = test_data.select(mean(col('Study_Sat'))).collect()[0][0]"
   ],
   "id": "99c74918c80a7302",
   "outputs": [],
   "execution_count": 28
  },
  {
   "metadata": {
    "ExecuteTime": {
     "end_time": "2024-11-07T16:49:12.151216Z",
     "start_time": "2024-11-07T16:49:12.120218Z"
    }
   },
   "cell_type": "code",
   "source": [
    "train_data = train_data.withColumn('Study_Sat',\n",
    "                      when((col('Status') == 'Student') &\n",
    "                            (col('Study_Sat').isNull()), int(train_mean_study_sat)) \\\n",
    "                      .when((col('Status') == 'Working Professional') &\n",
    "                            (col('Study_Sat').isNull()), 0) \\\n",
    "                      .otherwise(col('Study_Sat')))\n",
    "\n",
    "test_data = test_data.withColumn('Study_Sat',\n",
    "                      when((col('Status') == 'Student') &\n",
    "                            (col('Study_Sat').isNull()), int(test_mean_study_sat)) \\\n",
    "                      .when((col('Status') == 'Working Professional') &\n",
    "                            (col('Study_Sat').isNull()), 0) \\\n",
    "                      .otherwise(col('Study_Sat')))"
   ],
   "id": "6939174221bcdfc4",
   "outputs": [],
   "execution_count": 29
  },
  {
   "metadata": {},
   "cell_type": "markdown",
   "source": "### Job stasfaction",
   "id": "88ac5b3b31a740ef"
  },
  {
   "metadata": {
    "ExecuteTime": {
     "end_time": "2024-11-07T16:49:12.340815Z",
     "start_time": "2024-11-07T16:49:12.168218Z"
    }
   },
   "cell_type": "code",
   "source": [
    "train_data.groupBy('Status').agg(sum(col('Job_Sat').isNull().cast('int'))\\\n",
    "                                 .alias('Job_Sat null count')).show()"
   ],
   "id": "7ddd77899d42e703",
   "outputs": [
    {
     "name": "stdout",
     "output_type": "stream",
     "text": [
      "+--------------------+------------------+\n",
      "|              Status|Job_Sat null count|\n",
      "+--------------------+------------------+\n",
      "|             Student|             27893|\n",
      "|Working Professional|                17|\n",
      "+--------------------+------------------+\n",
      "\n"
     ]
    }
   ],
   "execution_count": 30
  },
  {
   "metadata": {
    "ExecuteTime": {
     "end_time": "2024-11-07T16:49:12.631444Z",
     "start_time": "2024-11-07T16:49:12.380814Z"
    }
   },
   "cell_type": "code",
   "source": [
    "train_mean_job_sat = train_data.select(mean(col('Job_Sat'))).collect()[0][0]\n",
    "test_mean_job_sat = test_data.select(mean(col('Job_Sat'))).collect()[0][0]"
   ],
   "id": "33e75dbba81d95d6",
   "outputs": [],
   "execution_count": 31
  },
  {
   "metadata": {
    "ExecuteTime": {
     "end_time": "2024-11-07T16:49:12.676440Z",
     "start_time": "2024-11-07T16:49:12.635442Z"
    }
   },
   "cell_type": "code",
   "source": [
    "train_data = train_data.withColumn('Job_Sat',\n",
    "                      when((col('Status') == 'Working Professional') &\n",
    "                            (col('Job_Sat').isNull()), int(train_mean_job_sat)) \\\n",
    "                      .when((col('Status') == 'Student') &\n",
    "                            (col('Job_Sat').isNull()), 0) \\\n",
    "                      .otherwise(col('Job_Sat')))\n",
    "\n",
    "test_data = test_data.withColumn('Job_Sat',\n",
    "                      when((col('Status') == 'Working Professional') &\n",
    "                            (col('Job_Sat').isNull()), int(test_mean_job_sat)) \\\n",
    "                      .when((col('Status') == 'Student') &\n",
    "                            (col('Job_Sat').isNull()), 0) \\\n",
    "                      .otherwise(col('Job_Sat')))"
   ],
   "id": "6d805bd5984afe9d",
   "outputs": [],
   "execution_count": 32
  },
  {
   "metadata": {},
   "cell_type": "markdown",
   "source": "### Diet Habits",
   "id": "5816ce2b6320018d"
  },
  {
   "metadata": {
    "ExecuteTime": {
     "end_time": "2024-11-07T16:49:13.034632Z",
     "start_time": "2024-11-07T16:49:12.692444Z"
    }
   },
   "cell_type": "code",
   "source": [
    "train_mode_diet = train_data.select(mode(col('Diet_Habits'))).collect()[0][0]\n",
    "test_mode_diet = test_data.select(mode(col('Diet_Habits'))).collect()[0][0]"
   ],
   "id": "ea8a878ff4e1ff89",
   "outputs": [],
   "execution_count": 33
  },
  {
   "metadata": {
    "ExecuteTime": {
     "end_time": "2024-11-07T16:49:13.081634Z",
     "start_time": "2024-11-07T16:49:13.050631Z"
    }
   },
   "cell_type": "code",
   "source": [
    "train_data = train_data.fillna(train_mode_diet, 'Diet_Habits')\n",
    "test_data = test_data.fillna(test_mode_diet, 'Diet_Habits')"
   ],
   "id": "a6724870ed6f94b5",
   "outputs": [],
   "execution_count": 34
  },
  {
   "metadata": {},
   "cell_type": "markdown",
   "source": "### Degree",
   "id": "825f97fa4b9e8e66"
  },
  {
   "metadata": {
    "ExecuteTime": {
     "end_time": "2024-11-07T16:49:13.362235Z",
     "start_time": "2024-11-07T16:49:13.098633Z"
    }
   },
   "cell_type": "code",
   "source": [
    "train_mode_deg = train_data.select(mode(col('Degree'))).collect()[0][0]\n",
    "test_mode_deg = test_data.select(mode(col('Degree'))).collect()[0][0]"
   ],
   "id": "6dcc50742a6552c3",
   "outputs": [],
   "execution_count": 35
  },
  {
   "metadata": {
    "ExecuteTime": {
     "end_time": "2024-11-07T16:49:13.392239Z",
     "start_time": "2024-11-07T16:49:13.378236Z"
    }
   },
   "cell_type": "code",
   "source": [
    "train_data = train_data.fillna(train_mode_deg, 'Degree')\n",
    "test_data = test_data.fillna(test_mode_deg, 'Degree')"
   ],
   "id": "5d0672e5dd2ec8ea",
   "outputs": [],
   "execution_count": 36
  },
  {
   "metadata": {},
   "cell_type": "markdown",
   "source": "### Fin stress",
   "id": "e8e1187b46636f37"
  },
  {
   "metadata": {
    "ExecuteTime": {
     "end_time": "2024-11-07T16:49:13.655136Z",
     "start_time": "2024-11-07T16:49:13.410237Z"
    }
   },
   "cell_type": "code",
   "source": [
    "train_mean_stress = train_data.select(mean(col('Fin_Stress'))).collect()[0][0]\n",
    "test_mean_stress = test_data.select(mean(col('Fin_Stress'))).collect()[0][0]"
   ],
   "id": "b605180f00fbc96d",
   "outputs": [],
   "execution_count": 37
  },
  {
   "metadata": {
    "ExecuteTime": {
     "end_time": "2024-11-07T16:49:13.685141Z",
     "start_time": "2024-11-07T16:49:13.671145Z"
    }
   },
   "cell_type": "code",
   "source": [
    "train_data = train_data.fillna(int(train_mean_stress), 'Fin_Stress')\n",
    "test_data = test_data.fillna(int(test_mean_stress), 'Fin_Stress')"
   ],
   "id": "76bdb09f2f1d66fb",
   "outputs": [],
   "execution_count": 38
  },
  {
   "metadata": {},
   "cell_type": "markdown",
   "source": "## EDA",
   "id": "75106a38a8dbef90"
  },
  {
   "metadata": {},
   "cell_type": "markdown",
   "source": "### Gender",
   "id": "7127b33cbdcd0478"
  },
  {
   "metadata": {
    "ExecuteTime": {
     "end_time": "2024-11-07T16:49:13.921158Z",
     "start_time": "2024-11-07T16:49:13.702172Z"
    }
   },
   "cell_type": "code",
   "source": "group_df = train_data.groupBy('Gender', 'Depression').count().toPandas()",
   "id": "c4f657988801b599",
   "outputs": [],
   "execution_count": 39
  },
  {
   "metadata": {
    "ExecuteTime": {
     "end_time": "2024-11-07T16:49:14.106743Z",
     "start_time": "2024-11-07T16:49:13.937161Z"
    }
   },
   "cell_type": "code",
   "source": "sns.barplot(x='Gender', y='count', hue='Depression', data=group_df)",
   "id": "130fb6053af5d034",
   "outputs": [
    {
     "data": {
      "text/plain": [
       "<Axes: xlabel='Gender', ylabel='count'>"
      ]
     },
     "execution_count": 40,
     "metadata": {},
     "output_type": "execute_result"
    },
    {
     "data": {
      "text/plain": [
       "<Figure size 640x480 with 1 Axes>"
      ],
      "image/png": "[encoded data removed]"
     },
     "metadata": {},
     "output_type": "display_data"
    }
   ],
   "execution_count": 40
  },
  {
   "metadata": {},
   "cell_type": "markdown",
   "source": "### Age",
   "id": "a4ba6373b62950c1"
  },
  {
   "metadata": {
    "ExecuteTime": {
     "end_time": "2024-11-07T16:49:14.766847Z",
     "start_time": "2024-11-07T16:49:14.122743Z"
    }
   },
   "cell_type": "code",
   "source": "group_df = train_data.groupBy('Age', 'Depression').count().toPandas()",
   "id": "d7bdc102371ffc",
   "outputs": [],
   "execution_count": 41
  },
  {
   "metadata": {
    "ExecuteTime": {
     "end_time": "2024-11-07T16:49:14.798896Z",
     "start_time": "2024-11-07T16:49:14.783850Z"
    }
   },
   "cell_type": "code",
   "source": "age_bins = [18, 25, 35, 45, 50, 70]",
   "id": "315bdaae353737c0",
   "outputs": [],
   "execution_count": 42
  },
  {
   "metadata": {
    "ExecuteTime": {
     "end_time": "2024-11-07T16:49:14.830418Z",
     "start_time": "2024-11-07T16:49:14.815418Z"
    }
   },
   "cell_type": "code",
   "source": "group_df['Age'] = pd.cut(group_df['Age'], age_bins, right=False)",
   "id": "28e590c392ecd1aa",
   "outputs": [],
   "execution_count": 43
  },
  {
   "metadata": {
    "ExecuteTime": {
     "end_time": "2024-11-07T16:49:14.860477Z",
     "start_time": "2024-11-07T16:49:14.846439Z"
    }
   },
   "cell_type": "code",
   "source": "group_df = group_df.groupby(['Age', 'Depression'])['count'].sum().reset_index()",
   "id": "6338c29435440ae",
   "outputs": [],
   "execution_count": 44
  },
  {
   "metadata": {
    "ExecuteTime": {
     "end_time": "2024-11-07T16:49:15.062477Z",
     "start_time": "2024-11-07T16:49:14.877480Z"
    }
   },
   "cell_type": "code",
   "source": "sns.barplot(x='Age', y='count', hue='Depression', data=group_df)",
   "id": "65d8a66182306f90",
   "outputs": [
    {
     "data": {
      "text/plain": [
       "<Axes: xlabel='Age', ylabel='count'>"
      ]
     },
     "execution_count": 45,
     "metadata": {},
     "output_type": "execute_result"
    },
    {
     "data": {
      "text/plain": [
       "<Figure size 640x480 with 1 Axes>"
      ],
      "image/png": "[encoded data removed]"
     },
     "metadata": {},
     "output_type": "display_data"
    }
   ],
   "execution_count": 45
  },
  {
   "metadata": {},
   "cell_type": "markdown",
   "source": "### Status",
   "id": "945bf910aff39462"
  },
  {
   "metadata": {
    "ExecuteTime": {
     "end_time": "2024-11-07T16:49:15.281085Z",
     "start_time": "2024-11-07T16:49:15.079084Z"
    }
   },
   "cell_type": "code",
   "source": "group_df = train_data.groupBy('Status', 'Depression').count().toPandas()",
   "id": "9bac4234913c4d55",
   "outputs": [],
   "execution_count": 46
  },
  {
   "metadata": {
    "ExecuteTime": {
     "end_time": "2024-11-07T16:49:15.312082Z",
     "start_time": "2024-11-07T16:49:15.297086Z"
    }
   },
   "cell_type": "code",
   "source": "group_df",
   "id": "f72fa685051e67ae",
   "outputs": [
    {
     "data": {
      "text/plain": [
       "                 Status  Depression   count\n",
       "0  Working Professional           1    9231\n",
       "1               Student           0   11565\n",
       "2               Student           1   16336\n",
       "3  Working Professional           0  103568"
      ],
      "text/html": [
       "<div>\n",
       "<style scoped>\n",
       "    .dataframe tbody tr th:only-of-type {\n",
       "        vertical-align: middle;\n",
       "    }\n",
       "\n",
       "    .dataframe tbody tr th {\n",
       "        vertical-align: top;\n",
       "    }\n",
       "\n",
       "    .dataframe thead th {\n",
       "        text-align: right;\n",
       "    }\n",
       "</style>\n",
       "<table border=\"1\" class=\"dataframe\">\n",
       "  <thead>\n",
       "    <tr style=\"text-align: right;\">\n",
       "      <th></th>\n",
       "      <th>Status</th>\n",
       "      <th>Depression</th>\n",
       "      <th>count</th>\n",
       "    </tr>\n",
       "  </thead>\n",
       "  <tbody>\n",
       "    <tr>\n",
       "      <th>0</th>\n",
       "      <td>Working Professional</td>\n",
       "      <td>1</td>\n",
       "      <td>9231</td>\n",
       "    </tr>\n",
       "    <tr>\n",
       "      <th>1</th>\n",
       "      <td>Student</td>\n",
       "      <td>0</td>\n",
       "      <td>11565</td>\n",
       "    </tr>\n",
       "    <tr>\n",
       "      <th>2</th>\n",
       "      <td>Student</td>\n",
       "      <td>1</td>\n",
       "      <td>16336</td>\n",
       "    </tr>\n",
       "    <tr>\n",
       "      <th>3</th>\n",
       "      <td>Working Professional</td>\n",
       "      <td>0</td>\n",
       "      <td>103568</td>\n",
       "    </tr>\n",
       "  </tbody>\n",
       "</table>\n",
       "</div>"
      ]
     },
     "execution_count": 47,
     "metadata": {},
     "output_type": "execute_result"
    }
   ],
   "execution_count": 47
  },
  {
   "metadata": {
    "ExecuteTime": {
     "end_time": "2024-11-07T16:49:15.558629Z",
     "start_time": "2024-11-07T16:49:15.373630Z"
    }
   },
   "cell_type": "code",
   "source": "sns.barplot(group_df, x='Status', y='count', hue='Depression')",
   "id": "1048019dfae98cd7",
   "outputs": [
    {
     "data": {
      "text/plain": [
       "<Axes: xlabel='Status', ylabel='count'>"
      ]
     },
     "execution_count": 48,
     "metadata": {},
     "output_type": "execute_result"
    },
    {
     "data": {
      "text/plain": [
       "<Figure size 640x480 with 1 Axes>"
      ],
      "image/png": "[encoded data removed]"
     },
     "metadata": {},
     "output_type": "display_data"
    }
   ],
   "execution_count": 48
  },
  {
   "metadata": {},
   "cell_type": "markdown",
   "source": "### Academic Pressure",
   "id": "21b335ed85bbb34a"
  },
  {
   "metadata": {
    "ExecuteTime": {
     "end_time": "2024-11-07T16:49:15.883905Z",
     "start_time": "2024-11-07T16:49:15.590339Z"
    }
   },
   "cell_type": "code",
   "source": "group_df = train_data.groupBy('Acad_Pressure', 'Depression').count().toPandas()",
   "id": "ff755cd45603530a",
   "outputs": [],
   "execution_count": 49
  },
  {
   "metadata": {
    "ExecuteTime": {
     "end_time": "2024-11-07T16:49:16.073909Z",
     "start_time": "2024-11-07T16:49:15.888909Z"
    }
   },
   "cell_type": "code",
   "source": "sns.barplot(group_df, x='Acad_Pressure', y='count', hue='Depression')",
   "id": "436fb22dfdd1c7fd",
   "outputs": [
    {
     "data": {
      "text/plain": [
       "<Axes: xlabel='Acad_Pressure', ylabel='count'>"
      ]
     },
     "execution_count": 50,
     "metadata": {},
     "output_type": "execute_result"
    },
    {
     "data": {
      "text/plain": [
       "<Figure size 640x480 with 1 Axes>"
      ],
      "image/png": "[encoded data removed]"
     },
     "metadata": {},
     "output_type": "display_data"
    }
   ],
   "execution_count": 50
  },
  {
   "metadata": {},
   "cell_type": "markdown",
   "source": "### Work Pressure",
   "id": "d4514b5b8112ae0a"
  },
  {
   "metadata": {
    "ExecuteTime": {
     "end_time": "2024-11-07T16:49:16.371115Z",
     "start_time": "2024-11-07T16:49:16.091906Z"
    }
   },
   "cell_type": "code",
   "source": "group_df = train_data.groupBy('Work_Pressure', 'Depression').count().toPandas()",
   "id": "278d7de9795b67df",
   "outputs": [],
   "execution_count": 51
  },
  {
   "metadata": {
    "ExecuteTime": {
     "end_time": "2024-11-07T16:49:16.573114Z",
     "start_time": "2024-11-07T16:49:16.389114Z"
    }
   },
   "cell_type": "code",
   "source": "sns.barplot(group_df, x='Work_Pressure', y='count', hue='Depression')",
   "id": "678b6290cfb40d52",
   "outputs": [
    {
     "data": {
      "text/plain": [
       "<Axes: xlabel='Work_Pressure', ylabel='count'>"
      ]
     },
     "execution_count": 52,
     "metadata": {},
     "output_type": "execute_result"
    },
    {
     "data": {
      "text/plain": [
       "<Figure size 640x480 with 1 Axes>"
      ],
      "image/png": "[encoded data removed]"
     },
     "metadata": {},
     "output_type": "display_data"
    }
   ],
   "execution_count": 52
  },
  {
   "metadata": {},
   "cell_type": "markdown",
   "source": "### CGPA",
   "id": "20148362c4230a93"
  },
  {
   "metadata": {
    "ExecuteTime": {
     "end_time": "2024-11-07T16:49:21.894250Z",
     "start_time": "2024-11-07T16:49:16.593116Z"
    }
   },
   "cell_type": "code",
   "source": "cgpa_bins = train_data.select('CGPA').rdd.flatMap(lambda x: x).histogram(5)[0]",
   "id": "bafc65c1de621a9f",
   "outputs": [],
   "execution_count": 53
  },
  {
   "metadata": {
    "ExecuteTime": {
     "end_time": "2024-11-07T16:49:21.924253Z",
     "start_time": "2024-11-07T16:49:21.910253Z"
    }
   },
   "cell_type": "code",
   "source": "cgpa_bins[-1] += 0.01",
   "id": "a5dd76d9850a5a92",
   "outputs": [],
   "execution_count": 54
  },
  {
   "metadata": {
    "ExecuteTime": {
     "end_time": "2024-11-07T16:49:22.936641Z",
     "start_time": "2024-11-07T16:49:21.941305Z"
    }
   },
   "cell_type": "code",
   "source": "group_df = train_data.groupBy('CGPA', 'Depression').count().toPandas()",
   "id": "19f27e029773da8a",
   "outputs": [],
   "execution_count": 55
  },
  {
   "metadata": {
    "ExecuteTime": {
     "end_time": "2024-11-07T16:49:22.967639Z",
     "start_time": "2024-11-07T16:49:22.952641Z"
    }
   },
   "cell_type": "code",
   "source": "group_df['CGPA'] = pd.cut(group_df['CGPA'], cgpa_bins, right=False)",
   "id": "866e9f88814f3ec3",
   "outputs": [],
   "execution_count": 56
  },
  {
   "metadata": {
    "ExecuteTime": {
     "end_time": "2024-11-07T16:49:23.234231Z",
     "start_time": "2024-11-07T16:49:22.984643Z"
    }
   },
   "cell_type": "code",
   "source": "sns.barplot(x='CGPA', y='count', hue='Depression', data=group_df)",
   "id": "ead297e9f47ac363",
   "outputs": [
    {
     "data": {
      "text/plain": [
       "<Axes: xlabel='CGPA', ylabel='count'>"
      ]
     },
     "execution_count": 57,
     "metadata": {},
     "output_type": "execute_result"
    },
    {
     "data": {
      "text/plain": [
       "<Figure size 640x480 with 1 Axes>"
      ],
      "image/png": "[encoded data removed]"
     },
     "metadata": {},
     "output_type": "display_data"
    }
   ],
   "execution_count": 57
  },
  {
   "metadata": {
    "ExecuteTime": {
     "end_time": "2024-11-07T16:49:23.545836Z",
     "start_time": "2024-11-07T16:49:23.252234Z"
    }
   },
   "cell_type": "code",
   "source": "sns.barplot(x='CGPA', y='count', hue='Depression', data = group_df.query('CGPA != [0.0, 2.0]'))",
   "id": "846ad282c56f724c",
   "outputs": [
    {
     "data": {
      "text/plain": [
       "<Axes: xlabel='CGPA', ylabel='count'>"
      ]
     },
     "execution_count": 58,
     "metadata": {},
     "output_type": "execute_result"
    },
    {
     "data": {
      "text/plain": [
       "<Figure size 640x480 with 1 Axes>"
      ],
      "image/png": "[encoded data removed]"
     },
     "metadata": {},
     "output_type": "display_data"
    }
   ],
   "execution_count": 58
  },
  {
   "metadata": {},
   "cell_type": "markdown",
   "source": "## Pre-processing",
   "id": "ef9c22c0e44eceda"
  },
  {
   "metadata": {
    "ExecuteTime": {
     "end_time": "2024-11-07T16:49:23.577419Z",
     "start_time": "2024-11-07T16:49:23.564423Z"
    }
   },
   "cell_type": "code",
   "source": [
    "num_feats = ['CGPA']\n",
    "cat_feats = train_data.columns\n",
    "cat_feats.remove(\"CGPA\")\n",
    "cat_feats.remove(\"Depression\")\n",
    "\n",
    "# after indexing\n",
    "cat_feats_out = list(map(lambda x: x+'_feature', cat_feats))\n",
    "features = cat_feats_out + num_feats"
   ],
   "id": "8afa35cb325de08f",
   "outputs": [],
   "execution_count": 59
  },
  {
   "metadata": {
    "ExecuteTime": {
     "end_time": "2024-11-07T16:49:23.654419Z",
     "start_time": "2024-11-07T16:49:23.594422Z"
    }
   },
   "cell_type": "code",
   "source": [
    "int_features = ['Age', 'Acad_Pressure', 'Work_Pressure', 'Study_Sat', 'Job_Sat', 'Work_Study_Hours', 'Fin_Stress']\n",
    "for feature in int_features:\n",
    "    train_data = train_data.withColumn(feature, col(feature).cast('int'))\n",
    "    test_data = test_data.withColumn(feature, col(feature).cast('int'))"
   ],
   "id": "d606278333f48477",
   "outputs": [],
   "execution_count": 60
  },
  {
   "metadata": {
    "ExecuteTime": {
     "end_time": "2024-11-07T16:49:24.548396Z",
     "start_time": "2024-11-07T16:49:23.671420Z"
    }
   },
   "cell_type": "code",
   "source": [
    "indxr = StringIndexer(inputCols=cat_feats, outputCols=cat_feats_out, handleInvalid=\"keep\")\n",
    "indxr = indxr.fit(train_data)"
   ],
   "id": "fde1039a87a81766",
   "outputs": [],
   "execution_count": 61
  },
  {
   "metadata": {
    "ExecuteTime": {
     "end_time": "2024-11-07T16:49:24.673959Z",
     "start_time": "2024-11-07T16:49:24.564397Z"
    }
   },
   "cell_type": "code",
   "source": [
    "train_data = indxr.transform(train_data)\n",
    "test_data = indxr.transform(test_data)"
   ],
   "id": "b0c1373bd25e4710",
   "outputs": [],
   "execution_count": 62
  },
  {
   "metadata": {
    "ExecuteTime": {
     "end_time": "2024-11-07T16:49:24.705956Z",
     "start_time": "2024-11-07T16:49:24.691958Z"
    }
   },
   "cell_type": "code",
   "source": "asmblr = VectorAssembler(inputCols=features, outputCol='features')",
   "id": "ed65c9a8229e48aa",
   "outputs": [],
   "execution_count": 63
  },
  {
   "metadata": {
    "ExecuteTime": {
     "end_time": "2024-11-07T16:49:24.799959Z",
     "start_time": "2024-11-07T16:49:24.736959Z"
    }
   },
   "cell_type": "code",
   "source": [
    "train_data = asmblr.transform(train_data)\n",
    "test_data = asmblr.transform(test_data)"
   ],
   "id": "96fdb0c3e6073e8b",
   "outputs": [],
   "execution_count": 64
  },
  {
   "metadata": {},
   "cell_type": "markdown",
   "source": "## Classifier",
   "id": "68251a9d831b48b3"
  },
  {
   "metadata": {
    "ExecuteTime": {
     "end_time": "2024-11-07T16:50:46.339083Z",
     "start_time": "2024-11-07T16:50:46.334084Z"
    }
   },
   "cell_type": "code",
   "source": "from pyspark.ml.classification import RandomForestClassifier, GBTClassifier",
   "id": "b0e17de86719773a",
   "outputs": [],
   "execution_count": 71
  },
  {
   "metadata": {
    "ExecuteTime": {
     "end_time": "2024-11-07T13:38:48.075787Z",
     "start_time": "2024-11-07T13:38:48.061788Z"
    }
   },
   "cell_type": "code",
   "source": [
    "def models_perf(train):\n",
    "    train, test = train.randomSplit([0.8, 0.2], 12)\n",
    "\n",
    "    evaluator = MulticlassClassificationEvaluator(labelCol = 'Depression', metricName = 'accuracy')\n",
    "    perf = []\n",
    "    models_name = []\n",
    "\n",
    "    for i in range(100, 401, 100):\n",
    "        rf = RandomForestClassifier(maxBins=115, numTrees=i, labelCol='Depression')\n",
    "        rf = rf.fit(train)\n",
    "        perf.append(rf.evaluate(test).accuracy)\n",
    "        models_name.append(f'RF(trees={i})')\n",
    "\n",
    "\n",
    "    for i in range(100, 201, 100):\n",
    "        gbt = GBTClassifier(maxBins=115, maxIter=i, labelCol='Depression')\n",
    "        gbt = gbt.fit(train)\n",
    "        perf.append(evaluator.evaluate(gbt.transform(test)))\n",
    "        models_name.append(f'GBT(iters={i})')\n",
    "\n",
    "    res = pd.DataFrame({'model': models_name,\n",
    "                        'accuracy': perf})\n",
    "    return res"
   ],
   "id": "d56605d0f503422c",
   "outputs": [],
   "execution_count": 67
  },
  {
   "metadata": {
    "ExecuteTime": {
     "end_time": "2024-11-07T13:42:07.427413Z",
     "start_time": "2024-11-07T13:38:48.709768Z"
    }
   },
   "cell_type": "code",
   "source": "models_perf(train_data)",
   "id": "8077365426449660",
   "outputs": [
    {
     "data": {
      "text/plain": [
       "            model  accuracy\n",
       "0   RF(trees=100)  0.923530\n",
       "1   RF(trees=200)  0.919921\n",
       "2   RF(trees=300)  0.919957\n",
       "3   RF(trees=400)  0.921065\n",
       "4  GBT(iters=100)  0.935680\n",
       "5  GBT(iters=200)  0.936001"
      ],
      "text/html": [
       "<div>\n",
       "<style scoped>\n",
       "    .dataframe tbody tr th:only-of-type {\n",
       "        vertical-align: middle;\n",
       "    }\n",
       "\n",
       "    .dataframe tbody tr th {\n",
       "        vertical-align: top;\n",
       "    }\n",
       "\n",
       "    .dataframe thead th {\n",
       "        text-align: right;\n",
       "    }\n",
       "</style>\n",
       "<table border=\"1\" class=\"dataframe\">\n",
       "  <thead>\n",
       "    <tr style=\"text-align: right;\">\n",
       "      <th></th>\n",
       "      <th>model</th>\n",
       "      <th>accuracy</th>\n",
       "    </tr>\n",
       "  </thead>\n",
       "  <tbody>\n",
       "    <tr>\n",
       "      <th>0</th>\n",
       "      <td>RF(trees=100)</td>\n",
       "      <td>0.923530</td>\n",
       "    </tr>\n",
       "    <tr>\n",
       "      <th>1</th>\n",
       "      <td>RF(trees=200)</td>\n",
       "      <td>0.919921</td>\n",
       "    </tr>\n",
       "    <tr>\n",
       "      <th>2</th>\n",
       "      <td>RF(trees=300)</td>\n",
       "      <td>0.919957</td>\n",
       "    </tr>\n",
       "    <tr>\n",
       "      <th>3</th>\n",
       "      <td>RF(trees=400)</td>\n",
       "      <td>0.921065</td>\n",
       "    </tr>\n",
       "    <tr>\n",
       "      <th>4</th>\n",
       "      <td>GBT(iters=100)</td>\n",
       "      <td>0.935680</td>\n",
       "    </tr>\n",
       "    <tr>\n",
       "      <th>5</th>\n",
       "      <td>GBT(iters=200)</td>\n",
       "      <td>0.936001</td>\n",
       "    </tr>\n",
       "  </tbody>\n",
       "</table>\n",
       "</div>"
      ]
     },
     "execution_count": 68,
     "metadata": {},
     "output_type": "execute_result"
    }
   ],
   "execution_count": 68
  }
 ],
 "metadata": {
  "kernelspec": {
   "display_name": "Python 3",
   "language": "python",
   "name": "python3"
  },
  "language_info": {
   "codemirror_mode": {
    "name": "ipython",
    "version": 2
   },
   "file_extension": ".py",
   "mimetype": "text/x-python",
   "name": "python",
   "nbconvert_exporter": "python",
   "pygments_lexer": "ipython2",
   "version": "2.7.6"
  }
 },
 "nbformat": 4,
 "nbformat_minor": 5
}
